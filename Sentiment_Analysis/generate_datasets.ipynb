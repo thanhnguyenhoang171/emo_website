{
 "cells": [
  {
   "cell_type": "markdown",
   "metadata": {},
   "source": [
    "# Xoá các dòng dữ liệu trùng"
   ]
  },
  {
   "cell_type": "code",
   "execution_count": null,
   "metadata": {
    "vscode": {
     "languageId": "plaintext"
    }
   },
   "outputs": [],
   "source": [
    "import pandas as pd\n",
    "\n",
    "# Đọc file Excel\n",
    "file_path = \"VNFoodDrinkReviews.xlsx\" \n",
    "df = pd.read_excel(file_path)\n",
    "\n",
    "# Tìm các dòng trùng lặp ở cột \"sentence\"\n",
    "duplicates = df[df.duplicated(subset=\"Sentence\", keep=False)]\n",
    "\n",
    "if not duplicates.empty:\n",
    "    print(\"Dữ liệu trùng lặp được tìm thấy:\")\n",
    "    print(duplicates)\n",
    "else:\n",
    "    print(\"Không có dữ liệu trùng lặp.\")\n",
    "\n",
    "# Loại bỏ dữ liệu trùng lặp và lưu file mới\n",
    "df_cleaned = df.drop_duplicates(subset=\"Sentence\", keep=\"first\")\n",
    "output_path = \"output.xlsx\"\n",
    "df_cleaned.to_excel(output_path, index=False)\n",
    "\n",
    "print(\"Đã loại bỏ dữ liệu trùng lặp và lưu file mới thành công!\")\n"
   ]
  },
  {
   "cell_type": "markdown",
   "metadata": {},
   "source": [
    "# Xử lý dữ liệu"
   ]
  },
  {
   "cell_type": "code",
   "execution_count": null,
   "metadata": {
    "vscode": {
     "languageId": "plaintext"
    }
   },
   "outputs": [],
   "source": [
    "import pandas as pd\n",
    "\n",
    "def read_and_preprocess_xlsx(file_path, column_name=\"Sentence\"):\n",
    "    try:\n",
    "        # Đọc file .xlsx\n",
    "        df = pd.read_excel(file_path)\n",
    "\n",
    "        # Kiểm tra xem cột column_name có tồn tại không\n",
    "        if column_name not in df.columns:\n",
    "            raise ValueError(f\"Cột '{column_name}' không tồn tại trong file .xlsx.\")\n",
    "\n",
    "        # Chuyển đổi cột column_name thành kiểu String\n",
    "        df[column_name] = df[column_name].astype(str)\n",
    "\n",
    "        # Xử lý các giá trị NaN bằng cách thay thế bằng chuỗi rỗng\n",
    "        df[column_name].fillna(\"\", inplace=True)\n",
    "\n",
    "        # Loại bỏ các hàng có Sentence rỗng hoặc chỉ chứa khoảng trắng\n",
    "        df = df[df[column_name].str.strip() != \"\"]\n",
    "\n",
    "        print(f\"Đã xử lý {len(df)} dòng dữ liệu hợp lệ.\")\n",
    "        return df\n",
    "\n",
    "    except Exception as e:\n",
    "        print(f\"Lỗi khi đọc và xử lý file .xlsx: {e}\")\n",
    "        return None\n",
    "\n",
    "file_path = \"VNFoodDrinkReviews_v1.xlsx\n",
    "df_processed = read_and_preprocess_xlsx(file_path)\n",
    "\n",
    "if df_processed is not None:\n",
    "    print(df_processed.head())\n"
   ]
  }
 ],
 "metadata": {
  "language_info": {
   "name": "python"
  }
 },
 "nbformat": 4,
 "nbformat_minor": 2
}
